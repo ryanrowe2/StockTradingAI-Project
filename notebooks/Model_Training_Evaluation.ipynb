{
 "cells": [
  {
   "cell_type": "code",
   "execution_count": null,
   "metadata": {
    "vscode": {
     "languageId": "plaintext"
    }
   },
   "outputs": [],
   "source": [
    "# Cell 1: Import Libraries\n",
    "import pandas as pd\n",
    "from scripts.model_training import build_bayesian_network, evaluate_model\n",
    "from scripts.model_training import prepare_target\n",
    "from sklearn.model_selection import train_test_split"
   ]
  },
  {
   "cell_type": "code",
   "execution_count": null,
   "metadata": {
    "vscode": {
     "languageId": "plaintext"
    }
   },
   "outputs": [],
   "source": [
    "# Cell 2: Load Processed Data\n",
    "df = pd.read_csv('../data/processed/processed_stock_data.csv')\n",
    "df = prepare_target(df)\n",
    "print(\"Processed Data Head:\")\n",
    "print(df.head())"
   ]
  },
  {
   "cell_type": "code",
   "execution_count": null,
   "metadata": {
    "vscode": {
     "languageId": "plaintext"
    }
   },
   "outputs": [],
   "source": [
    "# Cell 3: Define Features and Target\n",
    "numeric_cols = df.select_dtypes(include=[float, int]).columns.tolist()\n",
    "if 'Trend' in numeric_cols:\n",
    "    numeric_cols.remove('Trend')\n",
    "features = numeric_cols[:3]\n",
    "features_binned = [f\"{col}_binned\" if f\"{col}_binned\" in df.columns else col for col in features]\n",
    "target = 'Trend'\n",
    "print(\"Features for Modeling:\", features_binned)"
   ]
  },
  {
   "cell_type": "code",
   "execution_count": null,
   "metadata": {
    "vscode": {
     "languageId": "plaintext"
    }
   },
   "outputs": [],
   "source": [
    "# Cell 4: Build Bayesian Network Model\n",
    "model = build_bayesian_network(df, features_binned, target)"
   ]
  },
  {
   "cell_type": "code",
   "execution_count": null,
   "metadata": {
    "vscode": {
     "languageId": "plaintext"
    }
   },
   "outputs": [],
   "source": [
    "# Cell 5: Evaluate the Model\n",
    "predictions, actuals, accuracy = evaluate_model(model, df, features_binned, target)\n",
    "print(\"Model Accuracy:\", accuracy)"
   ]
  }
 ],
 "metadata": {
  "language_info": {
   "name": "python"
  }
 },
 "nbformat": 4,
 "nbformat_minor": 2
}
