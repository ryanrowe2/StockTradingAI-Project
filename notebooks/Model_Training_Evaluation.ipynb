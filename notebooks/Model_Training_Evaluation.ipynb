{
 "cells": [
  {
   "cell_type": "markdown",
   "metadata": {},
   "source": [
    "# Model Training & Evaluation\n",
    "\n",
    "This notebook demonstrates the training and evaluation of our baseline Bayesian network model for predicting the stock market \"Trend\" (whether the next day's \"Close\" price is higher than today's). \n",
    "\n",
    "In this notebook, we will:\n",
    "- Load the processed stock data and prepare the binary target.\n",
    "- Select a subset of features (preferably using the binned versions).\n",
    "- Build the Bayesian network model using functions from our `scripts/model_training.py`.\n",
    "- Evaluate the model's accuracy on a test set.\n",
    "- Document observations and discuss potential improvements.\n"
   ]
  },
  {
   "cell_type": "code",
   "execution_count": 9,
   "metadata": {},
   "outputs": [
    {
     "name": "stdout",
     "output_type": "stream",
     "text": [
      "Added scripts path: /workspaces/StockTradingAI-Project/scripts\n"
     ]
    }
   ],
   "source": [
    "import sys\n",
    "import os\n",
    "# Add the absolute path to the \"scripts\" folder to sys.path\n",
    "scripts_path = os.path.abspath(os.path.join('..', 'scripts'))\n",
    "sys.path.insert(0, scripts_path)\n",
    "print(\"Added scripts path:\", scripts_path)\n",
    "\n",
    "import pandas as pd\n",
    "import matplotlib.pyplot as plt\n",
    "from model_training import build_bayesian_network, evaluate_model, prepare_target\n",
    "from sklearn.model_selection import train_test_split\n",
    "\n",
    "%matplotlib inline\n"
   ]
  },
  {
   "cell_type": "code",
   "execution_count": 11,
   "metadata": {},
   "outputs": [
    {
     "name": "stdout",
     "output_type": "stream",
     "text": [
      "Processed Data Head:\n"
     ]
    },
    {
     "data": {
      "text/html": [
       "<div>\n",
       "<style scoped>\n",
       "    .dataframe tbody tr th:only-of-type {\n",
       "        vertical-align: middle;\n",
       "    }\n",
       "\n",
       "    .dataframe tbody tr th {\n",
       "        vertical-align: top;\n",
       "    }\n",
       "\n",
       "    .dataframe thead th {\n",
       "        text-align: right;\n",
       "    }\n",
       "</style>\n",
       "<table border=\"1\" class=\"dataframe\">\n",
       "  <thead>\n",
       "    <tr style=\"text-align: right;\">\n",
       "      <th></th>\n",
       "      <th>Date</th>\n",
       "      <th>Open</th>\n",
       "      <th>High</th>\n",
       "      <th>Low</th>\n",
       "      <th>Close</th>\n",
       "      <th>Volume</th>\n",
       "      <th>Name</th>\n",
       "      <th>Open_binned</th>\n",
       "      <th>High_binned</th>\n",
       "      <th>Low_binned</th>\n",
       "      <th>Close_binned</th>\n",
       "      <th>Volume_binned</th>\n",
       "      <th>Trend</th>\n",
       "    </tr>\n",
       "  </thead>\n",
       "  <tbody>\n",
       "    <tr>\n",
       "      <th>0</th>\n",
       "      <td>2006-01-03</td>\n",
       "      <td>0.335166</td>\n",
       "      <td>0.349163</td>\n",
       "      <td>0.338184</td>\n",
       "      <td>0.356895</td>\n",
       "      <td>-1.170054</td>\n",
       "      <td>MMM</td>\n",
       "      <td>3</td>\n",
       "      <td>3</td>\n",
       "      <td>3</td>\n",
       "      <td>3</td>\n",
       "      <td>0</td>\n",
       "      <td>0</td>\n",
       "    </tr>\n",
       "    <tr>\n",
       "      <th>1</th>\n",
       "      <td>2006-01-04</td>\n",
       "      <td>0.363377</td>\n",
       "      <td>0.351427</td>\n",
       "      <td>0.354762</td>\n",
       "      <td>0.350397</td>\n",
       "      <td>-1.357457</td>\n",
       "      <td>MMM</td>\n",
       "      <td>3</td>\n",
       "      <td>3</td>\n",
       "      <td>3</td>\n",
       "      <td>3</td>\n",
       "      <td>0</td>\n",
       "      <td>0</td>\n",
       "    </tr>\n",
       "    <tr>\n",
       "      <th>2</th>\n",
       "      <td>2006-01-05</td>\n",
       "      <td>0.345838</td>\n",
       "      <td>0.337781</td>\n",
       "      <td>0.343460</td>\n",
       "      <td>0.338616</td>\n",
       "      <td>-1.368077</td>\n",
       "      <td>MMM</td>\n",
       "      <td>3</td>\n",
       "      <td>3</td>\n",
       "      <td>3</td>\n",
       "      <td>3</td>\n",
       "      <td>0</td>\n",
       "      <td>1</td>\n",
       "    </tr>\n",
       "    <tr>\n",
       "      <th>3</th>\n",
       "      <td>2006-01-06</td>\n",
       "      <td>0.349594</td>\n",
       "      <td>0.341858</td>\n",
       "      <td>0.344775</td>\n",
       "      <td>0.349093</td>\n",
       "      <td>-1.387002</td>\n",
       "      <td>MMM</td>\n",
       "      <td>3</td>\n",
       "      <td>3</td>\n",
       "      <td>3</td>\n",
       "      <td>3</td>\n",
       "      <td>0</td>\n",
       "      <td>1</td>\n",
       "    </tr>\n",
       "    <tr>\n",
       "      <th>4</th>\n",
       "      <td>2006-01-09</td>\n",
       "      <td>0.347309</td>\n",
       "      <td>0.356909</td>\n",
       "      <td>0.358182</td>\n",
       "      <td>0.355436</td>\n",
       "      <td>-1.666864</td>\n",
       "      <td>MMM</td>\n",
       "      <td>3</td>\n",
       "      <td>3</td>\n",
       "      <td>3</td>\n",
       "      <td>3</td>\n",
       "      <td>0</td>\n",
       "      <td>0</td>\n",
       "    </tr>\n",
       "  </tbody>\n",
       "</table>\n",
       "</div>"
      ],
      "text/plain": [
       "         Date      Open      High       Low     Close    Volume Name  \\\n",
       "0  2006-01-03  0.335166  0.349163  0.338184  0.356895 -1.170054  MMM   \n",
       "1  2006-01-04  0.363377  0.351427  0.354762  0.350397 -1.357457  MMM   \n",
       "2  2006-01-05  0.345838  0.337781  0.343460  0.338616 -1.368077  MMM   \n",
       "3  2006-01-06  0.349594  0.341858  0.344775  0.349093 -1.387002  MMM   \n",
       "4  2006-01-09  0.347309  0.356909  0.358182  0.355436 -1.666864  MMM   \n",
       "\n",
       "   Open_binned  High_binned  Low_binned  Close_binned  Volume_binned  Trend  \n",
       "0            3            3           3             3              0      0  \n",
       "1            3            3           3             3              0      0  \n",
       "2            3            3           3             3              0      1  \n",
       "3            3            3           3             3              0      1  \n",
       "4            3            3           3             3              0      0  "
      ]
     },
     "metadata": {},
     "output_type": "display_data"
    },
    {
     "name": "stdout",
     "output_type": "stream",
     "text": [
      "\n",
      "Data Shape: (93612, 13)\n"
     ]
    }
   ],
   "source": [
    "# Load the processed stock data from the processed folder.\n",
    "# Update the filename if necessary. Here, we assume a file named 'processed_stock_data.csv'.\n",
    "df = pd.read_csv('../data/processed/all_stocks_2006-01-01_to_2018-01-01.csv')\n",
    "\n",
    "# Prepare the binary target 'Trend' (1 if next day's Close > today's, else 0)\n",
    "df = prepare_target(df)\n",
    "\n",
    "print(\"Processed Data Head:\")\n",
    "display(df.head())\n",
    "\n",
    "print(\"\\nData Shape:\", df.shape)\n"
   ]
  },
  {
   "cell_type": "code",
   "execution_count": 12,
   "metadata": {},
   "outputs": [
    {
     "name": "stdout",
     "output_type": "stream",
     "text": [
      "Features used for modeling: ['Open_binned', 'High_binned', 'Low_binned']\n"
     ]
    }
   ],
   "source": [
    "# Identify numerical columns in the dataframe\n",
    "numeric_cols = df.select_dtypes(include=[float, int]).columns.tolist()\n",
    "if 'Trend' in numeric_cols:\n",
    "    numeric_cols.remove('Trend')\n",
    "\n",
    "# For this baseline, we choose the first three numerical features.\n",
    "features = numeric_cols[:3]\n",
    "\n",
    "# Prefer using binned versions if they exist (e.g., \"Open_binned\" instead of \"Open\")\n",
    "features_binned = [f\"{col}_binned\" if f\"{col}_binned\" in df.columns else col for col in features]\n",
    "target = 'Trend'\n",
    "\n",
    "print(\"Features used for modeling:\", features_binned)\n"
   ]
  },
  {
   "cell_type": "code",
   "execution_count": 13,
   "metadata": {},
   "outputs": [
    {
     "name": "stdout",
     "output_type": "stream",
     "text": [
      "Bayesian Network model built successfully.\n"
     ]
    }
   ],
   "source": [
    "# Build the Bayesian network model using the selected features and target.\n",
    "model = build_bayesian_network(df, features_binned, target)\n",
    "print(\"Bayesian Network model built successfully.\")\n"
   ]
  },
  {
   "cell_type": "code",
   "execution_count": 14,
   "metadata": {},
   "outputs": [
    {
     "name": "stderr",
     "output_type": "stream",
     "text": [
      "WARNING:pgmpy:Replacing existing CPD for Open_binned\n",
      "WARNING:pgmpy:Replacing existing CPD for Trend\n",
      "WARNING:pgmpy:Replacing existing CPD for High_binned\n",
      "WARNING:pgmpy:Replacing existing CPD for Low_binned\n"
     ]
    },
    {
     "name": "stdout",
     "output_type": "stream",
     "text": [
      "Model Accuracy: 0.5111894461357689\n"
     ]
    }
   ],
   "source": [
    "# Evaluate the model on the test set and compute accuracy.\n",
    "predictions, actuals, accuracy = evaluate_model(model, df, features_binned, target)\n",
    "print(\"Model Accuracy:\", accuracy)\n"
   ]
  }
 ],
 "metadata": {
  "kernelspec": {
   "display_name": "Python 3",
   "language": "python",
   "name": "python3"
  },
  "language_info": {
   "codemirror_mode": {
    "name": "ipython",
    "version": 3
   },
   "file_extension": ".py",
   "mimetype": "text/x-python",
   "name": "python",
   "nbconvert_exporter": "python",
   "pygments_lexer": "ipython3",
   "version": "3.12.1"
  }
 },
 "nbformat": 4,
 "nbformat_minor": 2
}
